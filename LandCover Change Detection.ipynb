{
 "cells": [
  {
   "cell_type": "code",
   "execution_count": 16,
   "metadata": {
    "scrolled": false
   },
   "outputs": [
    {
     "name": "stdout",
     "output_type": "stream",
     "text": [
      "Requirement already satisfied: opencv-python in c:\\users\\dell\\anaconda3\\lib\\site-packages (4.6.0.66)\n",
      "Requirement already satisfied: numpy>=1.19.3 in c:\\users\\dell\\anaconda3\\lib\\site-packages (from opencv-python) (1.21.5)\n"
     ]
    }
   ],
   "source": [
    "!pip install opencv-python"
   ]
  },
  {
   "cell_type": "code",
   "execution_count": 17,
   "metadata": {
    "id": "SvyzRvDWxvnf"
   },
   "outputs": [],
   "source": [
    "import numpy as np\n",
    "import cv2 \n",
    "from sklearn.cluster import KMeans\n",
    "from sklearn.decomposition import PCA\n",
    "from collections import Counter\n",
    "import skimage\n",
    "import scipy.stats as stats"
   ]
  },
  {
   "cell_type": "code",
   "execution_count": 18,
   "metadata": {
    "id": "VYbcCEVCx2yr",
    "scrolled": true
   },
   "outputs": [],
   "source": [
    "def find_vector_set(diff_image, new_size):\n",
    "    i = 0\n",
    "    j = 0\n",
    "    vector_set = np.zeros((int(new_size[0] * new_size[1] / 25), 25))\n",
    "    while i < vector_set.shape[0]:\n",
    "        while j < new_size[0]:\n",
    "            k = 0\n",
    "            while k < new_size[1]:\n",
    "                block   = diff_image[j:j+5, k:k+5]\n",
    "                feature = block.ravel()\n",
    "                vector_set[i, :] = feature\n",
    "                k = k + 5\n",
    "            j = j + 5\n",
    "        i = i + 1\n",
    " \n",
    "    mean_vec   = np.mean(vector_set, axis = 0)\n",
    "    vector_set = vector_set - mean_vec\n",
    "    print(np.size(vector_set,0),np.size(vector_set,1))\n",
    "    return vector_set, mean_vec"
   ]
  },
  {
   "cell_type": "code",
   "execution_count": 19,
   "metadata": {
    "id": "qkTsxv_Wx89i",
    "scrolled": true
   },
   "outputs": [],
   "source": [
    "def find_FVS(EVS, diff_image, mean_vec, new):\n",
    " \n",
    "    i = 2\n",
    "    feature_vector_set = []\n",
    " \n",
    "    while i < new[0] - 2:\n",
    "        j = 2\n",
    "        while j < new[1] - 2:\n",
    "            block = diff_image[i-2:i+3, j-2:j+3]\n",
    "            feature = block.flatten()\n",
    "            feature_vector_set.append(feature)\n",
    "            j = j+1\n",
    "        i = i+1\n",
    " \n",
    "    FVS = np.dot(feature_vector_set, EVS)\n",
    "    FVS = FVS - mean_vec\n",
    "    print(\"\\nfeature vector space size\", FVS.shape)\n",
    "    return FVS\n",
    "    "
   ]
  },
  {
   "cell_type": "code",
   "execution_count": 20,
   "metadata": {
    "id": "WTX6xFXqyAfw",
    "scrolled": true
   },
   "outputs": [],
   "source": [
    "def clustering(FVS, components, new):\n",
    " \n",
    "    kmeans = KMeans(components, verbose = 0)\n",
    "    kmeans.fit(FVS)\n",
    "    output = kmeans.predict(FVS)\n",
    "    count  = Counter(output)\n",
    " \n",
    "    least_index = min(count, key = count.get)\n",
    "    change_map  = np.reshape(output,(new[0] - 4, new[1] - 4))\n",
    "    return least_index, change_map"
   ]
  },
  {
   "cell_type": "code",
   "execution_count": 21,
   "metadata": {
    "id": "ZnV8M4uhyPjG",
    "scrolled": true
   },
   "outputs": [],
   "source": [
    "if __name__ == \"__main__\":\n",
    "    a = \"stacking_output1.png\"\n",
    "    b = \"stacking_output2.png\""
   ]
  },
  {
   "cell_type": "code",
   "execution_count": 22,
   "metadata": {
    "id": "oLWucthWyWQ8",
    "scrolled": true
   },
   "outputs": [],
   "source": [
    "img1 = cv2.imread(a)\n",
    "img2 = cv2.imread(b)"
   ]
  },
  {
   "cell_type": "code",
   "execution_count": 23,
   "metadata": {
    "id": "hZ-67nhzUHhy",
    "scrolled": true
   },
   "outputs": [],
   "source": [
    "img1=np.array(img1)\n",
    "img2=np.array(img2)"
   ]
  },
  {
   "cell_type": "code",
   "execution_count": 24,
   "metadata": {
    "colab": {
     "base_uri": "https://localhost:8080/"
    },
    "id": "-63XMwNkyfmV",
    "outputId": "df78b08c-4ff3-4ecd-df74-8f49dd6e9886",
    "scrolled": true
   },
   "outputs": [
    {
     "data": {
      "text/plain": [
       "(831, 1251, 3)"
      ]
     },
     "execution_count": 24,
     "metadata": {},
     "output_type": "execute_result"
    }
   ],
   "source": [
    "np.shape(img1)"
   ]
  },
  {
   "cell_type": "code",
   "execution_count": 25,
   "metadata": {
    "colab": {
     "base_uri": "https://localhost:8080/"
    },
    "id": "n7e3Iqn6yiba",
    "outputId": "377b68fa-1981-49c3-dc11-111c8e5cbe9c",
    "scrolled": true
   },
   "outputs": [
    {
     "data": {
      "text/plain": [
       "(831, 1251, 3)"
      ]
     },
     "execution_count": 25,
     "metadata": {},
     "output_type": "execute_result"
    }
   ],
   "source": [
    "np.shape(img2)"
   ]
  },
  {
   "cell_type": "code",
   "execution_count": 26,
   "metadata": {
    "id": "lOE8LOsIyke3",
    "scrolled": true
   },
   "outputs": [],
   "source": [
    "image1=img1[:,:,1]\n",
    "image2=img2[:,:,1]"
   ]
  },
  {
   "cell_type": "code",
   "execution_count": 27,
   "metadata": {
    "id": "ZIP1e_UIyoQt",
    "scrolled": true
   },
   "outputs": [],
   "source": [
    "new_size = np.asarray(img1.shape) / 5\n",
    "new_size = new_size.astype(int) * 5"
   ]
  },
  {
   "cell_type": "code",
   "execution_count": 28,
   "metadata": {
    "id": "IgtZiTb2yo__",
    "scrolled": true
   },
   "outputs": [],
   "source": [
    "image1 = cv2.resize(image1, (new_size[1],new_size[0])).astype(np.int16)\n",
    "image2 = cv2.resize(image2, (new_size[1],new_size[0])).astype(np.int16)"
   ]
  },
  {
   "cell_type": "code",
   "execution_count": 29,
   "metadata": {
    "colab": {
     "base_uri": "https://localhost:8080/"
    },
    "id": "6yMLgF7cyr_1",
    "outputId": "984992b7-51a9-4d61-8842-2cedbf37151e",
    "scrolled": true
   },
   "outputs": [
    {
     "data": {
      "text/plain": [
       "array([[0, 0, 0, ..., 0, 0, 0],\n",
       "       [0, 0, 0, ..., 0, 0, 0],\n",
       "       [0, 0, 0, ..., 0, 0, 0],\n",
       "       ...,\n",
       "       [0, 0, 0, ..., 0, 0, 0],\n",
       "       [0, 0, 0, ..., 0, 0, 0],\n",
       "       [0, 0, 0, ..., 0, 0, 0]], dtype=int16)"
      ]
     },
     "execution_count": 29,
     "metadata": {},
     "output_type": "execute_result"
    }
   ],
   "source": [
    "diff_image = abs(image1 - image2)\n",
    "diff_image"
   ]
  },
  {
   "cell_type": "code",
   "execution_count": 30,
   "metadata": {
    "colab": {
     "base_uri": "https://localhost:8080/"
    },
    "id": "iUkf573Byyqj",
    "outputId": "6d345cfe-0f79-4d28-f661-4e4be1c14736",
    "scrolled": true
   },
   "outputs": [
    {
     "name": "stdout",
     "output_type": "stream",
     "text": [
      "41500 25\n"
     ]
    },
    {
     "name": "stderr",
     "output_type": "stream",
     "text": [
      "C:\\Users\\DELL\\anaconda3\\lib\\site-packages\\sklearn\\decomposition\\_pca.py:501: RuntimeWarning: invalid value encountered in true_divide\n",
      "  explained_variance_ratio_ = explained_variance_ / total_var\n"
     ]
    }
   ],
   "source": [
    "vector_set, mean_vec = find_vector_set(diff_image, new_size)\n",
    "pca  = PCA()\n",
    "pca.fit(vector_set)\n",
    "EVS = pca.components_"
   ]
  },
  {
   "cell_type": "code",
   "execution_count": 31,
   "metadata": {
    "colab": {
     "base_uri": "https://localhost:8080/"
    },
    "id": "9XGHA5aZy24V",
    "outputId": "8700b719-4c60-49ae-ab7e-18d4a308b122",
    "scrolled": true
   },
   "outputs": [
    {
     "name": "stdout",
     "output_type": "stream",
     "text": [
      "\n",
      "feature vector space size (1029196, 25)\n"
     ]
    }
   ],
   "source": [
    "FVS  = find_FVS(EVS, diff_image, mean_vec, new_size)\n",
    "k = 3\n",
    "least_index, change_map = clustering(FVS, k, new_size)\n",
    " \n",
    "change_map[change_map == least_index] = 255\n",
    "change_map[change_map != 255] = 0\n",
    " \n",
    "change_map = change_map.astype(np.uint8)\n",
    "\n",
    "\n",
    "kernel1    = np.asarray(((0,0,1,0,0),\n",
    "                         (0,1,1,1,0),\n",
    "                         (1,1,1,1,1),\n",
    "                         (0,1,1,1,0),\n",
    "                         (0,0,1,0,0)), dtype=np.uint8)"
   ]
  },
  {
   "cell_type": "code",
   "execution_count": 32,
   "metadata": {
    "id": "W4a51tG7y6bC",
    "scrolled": true
   },
   "outputs": [],
   "source": [
    "kernel2=np.asarray(((0,0,0,1,0,0,0),\n",
    "                   (0,0,1,1,1,0,0),\n",
    "                   (0,1,1,1,1,1,0),\n",
    "                   (1,1,1,1,1,1,1),\n",
    "                   (0,1,1,1,1,1,0),\n",
    "                   (0,0,1,1,1,0,0),\n",
    "                   (0,0,0,1,0,0,0)),dtype=np.uint8)\n",
    "\n",
    "cleanChangeMap = cv2.erode(change_map,kernel1)\n",
    "clean=cv2.dilate(cleanChangeMap,kernel1)"
   ]
  },
  {
   "cell_type": "code",
   "execution_count": 33,
   "metadata": {
    "colab": {
     "base_uri": "https://localhost:8080/"
    },
    "id": "MvbADKEBzDKL",
    "outputId": "ae456467-8132-41aa-df6f-bd326b142e2c",
    "scrolled": true
   },
   "outputs": [
    {
     "data": {
      "text/plain": [
       "(831, 1251, 3)"
      ]
     },
     "execution_count": 33,
     "metadata": {},
     "output_type": "execute_result"
    }
   ],
   "source": [
    "np.shape(img1)"
   ]
  },
  {
   "cell_type": "code",
   "execution_count": 34,
   "metadata": {
    "colab": {
     "base_uri": "https://localhost:8080/"
    },
    "id": "FookW6Zfy9ws",
    "outputId": "499ef216-03f5-428c-a6be-7fcb6be9b8b3",
    "scrolled": true
   },
   "outputs": [
    {
     "data": {
      "text/plain": [
       "(831, 1251, 3)"
      ]
     },
     "execution_count": 34,
     "metadata": {},
     "output_type": "execute_result"
    }
   ],
   "source": [
    "np.shape(img2)"
   ]
  },
  {
   "cell_type": "code",
   "execution_count": 35,
   "metadata": {
    "id": "Zesi1MgAzAzz",
    "scrolled": true
   },
   "outputs": [],
   "source": [
    "cleanChangeMap_New=cv2.resize(cleanChangeMap,(np.size(img1,1),np.size(img1,0))).astype(np.int16)"
   ]
  },
  {
   "cell_type": "code",
   "execution_count": 36,
   "metadata": {
    "colab": {
     "base_uri": "https://localhost:8080/"
    },
    "id": "xCkyqRgvzKiJ",
    "outputId": "643a7c10-b1ed-44ee-b00c-56e8796e4e44",
    "scrolled": true
   },
   "outputs": [
    {
     "data": {
      "text/plain": [
       "(831, 1251)"
      ]
     },
     "execution_count": 36,
     "metadata": {},
     "output_type": "execute_result"
    }
   ],
   "source": [
    "np.shape(cleanChangeMap_New)"
   ]
  },
  {
   "cell_type": "code",
   "execution_count": 37,
   "metadata": {
    "colab": {
     "base_uri": "https://localhost:8080/"
    },
    "id": "JxBZaeoFzLme",
    "outputId": "5cd109af-c799-4f62-a540-ea5b41403233",
    "scrolled": true
   },
   "outputs": [
    {
     "data": {
      "text/plain": [
       "True"
      ]
     },
     "execution_count": 37,
     "metadata": {},
     "output_type": "execute_result"
    }
   ],
   "source": [
    "cv2.imwrite('a_erode.png',cleanChangeMap)\n",
    "cv2.imwrite('a_without.png',change_map)\n",
    "cv2.imwrite('a_dilate.png',clean)"
   ]
  },
  {
   "cell_type": "code",
   "execution_count": null,
   "metadata": {
    "colab": {
     "base_uri": "https://localhost:8080/"
    },
    "id": "qt3XFGJVSqrk",
    "outputId": "0b306d75-5d77-4264-d190-5ef56f097c11",
    "scrolled": true
   },
   "outputs": [],
   "source": [
    "!pip install image_similarity_measures"
   ]
  },
  {
   "cell_type": "code",
   "execution_count": 43,
   "metadata": {
    "id": "PIm5pK4tz9Wd",
    "scrolled": true
   },
   "outputs": [],
   "source": [
    "from image_similarity_measures.quality_metrics import rmse, psnr"
   ]
  },
  {
   "cell_type": "code",
   "execution_count": 48,
   "metadata": {
    "id": "ouQd7DbCzyVH",
    "scrolled": true
   },
   "outputs": [],
   "source": [
    "a = \"stacking_output1.png\"\n",
    "b = \"stacking_output2.png\"\n",
    "y = \"a_erode (1).png\""
   ]
  },
  {
   "cell_type": "code",
   "execution_count": 49,
   "metadata": {
    "id": "zh4-27SIzua7",
    "scrolled": true
   },
   "outputs": [],
   "source": [
    "in_img1 = cv2.imread(y)\n",
    "in_img2 = cv2.imread(b)\n",
    "out_rmse = rmse(in_img1, in_img2)\n",
    "out_psnr = psnr(in_img1, in_img2)"
   ]
  },
  {
   "cell_type": "code",
   "execution_count": 50,
   "metadata": {
    "colab": {
     "base_uri": "https://localhost:8080/"
    },
    "id": "papWfywIz-OM",
    "outputId": "c0d010b4-b0dd-4948-fe58-6ca2616e6b5a",
    "scrolled": true
   },
   "outputs": [
    {
     "name": "stdout",
     "output_type": "stream",
     "text": [
      "0.040098414\n",
      "27.937459980754426\n"
     ]
    }
   ],
   "source": [
    "print(out_rmse)\n",
    "print(out_psnr)"
   ]
  },
  {
   "cell_type": "markdown",
   "metadata": {
    "id": "SwN8rpMShCgf"
   },
   "source": [
    "## RSME:- higher the value, lower the quality\n",
    "## PSNR:- higher the value, higher the quality"
   ]
  }
 ],
 "metadata": {
  "colab": {
   "name": "Epics Final.ipynb",
   "provenance": []
  },
  "kernelspec": {
   "display_name": "Python 3 (ipykernel)",
   "language": "python",
   "name": "python3"
  },
  "language_info": {
   "codemirror_mode": {
    "name": "ipython",
    "version": 3
   },
   "file_extension": ".py",
   "mimetype": "text/x-python",
   "name": "python",
   "nbconvert_exporter": "python",
   "pygments_lexer": "ipython3",
   "version": "3.9.12"
  }
 },
 "nbformat": 4,
 "nbformat_minor": 1
}
