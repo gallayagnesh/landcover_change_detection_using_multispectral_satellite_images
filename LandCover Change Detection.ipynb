{
  "nbformat": 4,
  "nbformat_minor": 0,
  "metadata": {
    "colab": {
      "name": "LandCoverChange Detection.ipynb",
      "provenance": []
    },
    "kernelspec": {
      "name": "python3",
      "display_name": "Python 3"
    },
    "language_info": {
      "name": "python"
    }
  },
  "cells": [
    {
      "cell_type": "code",
      "execution_count": null,
      "metadata": {
        "id": "SvyzRvDWxvnf"
      },
      "outputs": [],
      "source": [
        "import numpy as np\n",
        "import cv2 \n",
        "from sklearn.cluster import KMeans\n",
        "from sklearn.decomposition import PCA\n",
        "from collections import Counter\n",
        "import skimage\n",
        "import scipy.stats as stats"
      ]
    },
    {
      "cell_type": "code",
      "source": [
        "def find_vector_set(diff_image, new_size):\n",
        "    i = 0\n",
        "    j = 0\n",
        "    vector_set = np.zeros((int(new_size[0] * new_size[1] / 25), 25))\n",
        "    while i < vector_set.shape[0]:\n",
        "        while j < new_size[0]:\n",
        "            k = 0\n",
        "            while k < new_size[1]:\n",
        "                block   = diff_image[j:j+5, k:k+5]\n",
        "                feature = block.ravel()\n",
        "                vector_set[i, :] = feature\n",
        "                k = k + 5\n",
        "            j = j + 5\n",
        "        i = i + 1\n",
        " \n",
        "    mean_vec   = np.mean(vector_set, axis = 0)\n",
        "    vector_set = vector_set - mean_vec\n",
        "    print(np.size(vector_set,0),np.size(vector_set,1))\n",
        "    return vector_set, mean_vec"
      ],
      "metadata": {
        "id": "VYbcCEVCx2yr"
      },
      "execution_count": null,
      "outputs": []
    },
    {
      "cell_type": "code",
      "source": [
        "def find_FVS(EVS, diff_image, mean_vec, new):\n",
        " \n",
        "    i = 2\n",
        "    feature_vector_set = []\n",
        " \n",
        "    while i < new[0] - 2:\n",
        "        j = 2\n",
        "        while j < new[1] - 2:\n",
        "            block = diff_image[i-2:i+3, j-2:j+3]\n",
        "            feature = block.flatten()\n",
        "            feature_vector_set.append(feature)\n",
        "            j = j+1\n",
        "        i = i+1\n",
        " \n",
        "    FVS = np.dot(feature_vector_set, EVS)\n",
        "    FVS = FVS - mean_vec\n",
        "    print(\"\\nfeature vector space size\", FVS.shape)\n",
        "    return FVS\n",
        "    "
      ],
      "metadata": {
        "id": "qkTsxv_Wx89i"
      },
      "execution_count": null,
      "outputs": []
    },
    {
      "cell_type": "code",
      "source": [
        "def clustering(FVS, components, new):\n",
        " \n",
        "    kmeans = KMeans(components, verbose = 0)\n",
        "    kmeans.fit(FVS)\n",
        "    output = kmeans.predict(FVS)\n",
        "    count  = Counter(output)\n",
        " \n",
        "    least_index = min(count, key = count.get)\n",
        "    change_map  = np.reshape(output,(new[0] - 4, new[1] - 4))\n",
        "    return least_index, change_map"
      ],
      "metadata": {
        "id": "WTX6xFXqyAfw"
      },
      "execution_count": null,
      "outputs": []
    },
    {
      "cell_type": "code",
      "source": [
        "import pandas as pd\n",
        "from google.colab import drive\n",
        "drive.mount('/content/gdrive')"
      ],
      "metadata": {
        "id": "XsaJAn6RyEZW"
      },
      "execution_count": null,
      "outputs": []
    },
    {
      "cell_type": "code",
      "source": [
        "if __name__ == \"__main__\":\n",
        "    a = \"/content/gdrive/MyDrive/stacking_output1.png\"\n",
        "    b = \"/content/gdrive/MyDrive/stacking_output2.png\""
      ],
      "metadata": {
        "id": "ZnV8M4uhyPjG"
      },
      "execution_count": null,
      "outputs": []
    },
    {
      "cell_type": "code",
      "source": [
        "img1 = cv2.imread(a)\n",
        "img2 = cv2.imread(b)"
      ],
      "metadata": {
        "id": "oLWucthWyWQ8"
      },
      "execution_count": null,
      "outputs": []
    },
    {
      "cell_type": "code",
      "source": [
        "img1=np.array(img1)\n",
        "img2=np.array(img2)"
      ],
      "metadata": {
        "id": "hZ-67nhzUHhy"
      },
      "execution_count": null,
      "outputs": []
    },
    {
      "cell_type": "code",
      "source": [
        "np.shape(img1)"
      ],
      "metadata": {
        "id": "-63XMwNkyfmV"
      },
      "execution_count": null,
      "outputs": []
    },
    {
      "cell_type": "code",
      "source": [
        "np.shape(img2)"
      ],
      "metadata": {
        "id": "n7e3Iqn6yiba"
      },
      "execution_count": null,
      "outputs": []
    },
    {
      "cell_type": "code",
      "source": [
        "image1=img1[:,:,1]\n",
        "image2=img2[:,:,1]"
      ],
      "metadata": {
        "id": "lOE8LOsIyke3"
      },
      "execution_count": null,
      "outputs": []
    },
    {
      "cell_type": "code",
      "source": [
        "new_size = np.asarray(img1.shape) / 5\n",
        "new_size = new_size.astype(int) * 5"
      ],
      "metadata": {
        "id": "ZIP1e_UIyoQt"
      },
      "execution_count": null,
      "outputs": []
    },
    {
      "cell_type": "code",
      "source": [
        "image1 = cv2.resize(image1, (new_size[1],new_size[0])).astype(np.int16)\n",
        "image2 = cv2.resize(image2, (new_size[1],new_size[0])).astype(np.int16)"
      ],
      "metadata": {
        "id": "IgtZiTb2yo__"
      },
      "execution_count": null,
      "outputs": []
    },
    {
      "cell_type": "code",
      "source": [
        "diff_image = abs(image1 - image2)\n",
        "diff_image"
      ],
      "metadata": {
        "id": "6yMLgF7cyr_1"
      },
      "execution_count": null,
      "outputs": []
    },
    {
      "cell_type": "code",
      "source": [
        "vector_set, mean_vec = find_vector_set(diff_image, new_size)\n",
        "pca  = PCA()\n",
        "pca.fit(vector_set)\n",
        "EVS = pca.components_"
      ],
      "metadata": {
        "id": "iUkf573Byyqj"
      },
      "execution_count": null,
      "outputs": []
    },
    {
      "cell_type": "code",
      "source": [
        "FVS  = find_FVS(EVS, diff_image, mean_vec, new_size)\n",
        "k = 3\n",
        "least_index, change_map = clustering(FVS, k, new_size)\n",
        " \n",
        "change_map[change_map == least_index] = 255\n",
        "change_map[change_map != 255] = 0\n",
        " \n",
        "change_map = change_map.astype(np.uint8)\n",
        "\n",
        "\n",
        "kernel1    = np.asarray(((0,0,1,0,0),\n",
        "                         (0,1,1,1,0),\n",
        "                         (1,1,1,1,1),\n",
        "                         (0,1,1,1,0),\n",
        "                         (0,0,1,0,0)), dtype=np.uint8)"
      ],
      "metadata": {
        "id": "9XGHA5aZy24V"
      },
      "execution_count": null,
      "outputs": []
    },
    {
      "cell_type": "code",
      "source": [
        "kernel2=np.asarray(((0,0,0,1,0,0,0),\n",
        "                   (0,0,1,1,1,0,0),\n",
        "                   (0,1,1,1,1,1,0),\n",
        "                   (1,1,1,1,1,1,1),\n",
        "                   (0,1,1,1,1,1,0),\n",
        "                   (0,0,1,1,1,0,0),\n",
        "                   (0,0,0,1,0,0,0)),dtype=np.uint8)\n",
        "\n",
        "cleanChangeMap = cv2.erode(change_map,kernel1)\n",
        "clean=cv2.dilate(cleanChangeMap,kernel1)"
      ],
      "metadata": {
        "id": "W4a51tG7y6bC"
      },
      "execution_count": null,
      "outputs": []
    },
    {
      "cell_type": "code",
      "source": [
        "np.shape(img1)"
      ],
      "metadata": {
        "id": "MvbADKEBzDKL"
      },
      "execution_count": null,
      "outputs": []
    },
    {
      "cell_type": "code",
      "source": [
        "np.shape(img2)"
      ],
      "metadata": {
        "id": "FookW6Zfy9ws"
      },
      "execution_count": null,
      "outputs": []
    },
    {
      "cell_type": "code",
      "source": [
        "cleanChangeMap_New=cv2.resize(cleanChangeMap,(np.size(img1,1),np.size(img1,0))).astype(np.int16)"
      ],
      "metadata": {
        "id": "Zesi1MgAzAzz"
      },
      "execution_count": null,
      "outputs": []
    },
    {
      "cell_type": "code",
      "source": [
        "np.shape(cleanChangeMap_New)"
      ],
      "metadata": {
        "id": "xCkyqRgvzKiJ"
      },
      "execution_count": null,
      "outputs": []
    },
    {
      "cell_type": "code",
      "source": [
        "cv2.imwrite('a_erode.png',cleanChangeMap)\n",
        "cv2.imwrite('a_without.png',change_map)\n",
        "cv2.imwrite('a_dilate.png',clean)"
      ],
      "metadata": {
        "id": "JxBZaeoFzLme"
      },
      "execution_count": null,
      "outputs": []
    },
    {
      "cell_type": "code",
      "source": [
        "!pip install image_similarity_measures"
      ],
      "metadata": {
        "id": "qt3XFGJVSqrk"
      },
      "execution_count": null,
      "outputs": []
    },
    {
      "cell_type": "code",
      "source": [
        "from image_similarity_measures.quality_metrics import rmse, psnr"
      ],
      "metadata": {
        "id": "PIm5pK4tz9Wd"
      },
      "execution_count": null,
      "outputs": []
    },
    {
      "cell_type": "code",
      "source": [
        "a = \"/content/gdrive/MyDrive/stacking_output1.png\"\n",
        "b = \"/content/gdrive/MyDrive/stacking_output2.png\"\n",
        "y = \"/content/gdrive/MyDrive/a_erode (1).png\""
      ],
      "metadata": {
        "id": "ouQd7DbCzyVH"
      },
      "execution_count": null,
      "outputs": []
    },
    {
      "cell_type": "code",
      "source": [
        "in_img1 = cv2.imread(y)\n",
        "in_img2 = cv2.imread(b)\n",
        "out_rmse = rmse(in_img1, in_img2)\n",
        "out_psnr = psnr(in_img1, in_img2)"
      ],
      "metadata": {
        "id": "zh4-27SIzua7"
      },
      "execution_count": null,
      "outputs": []
    },
    {
      "cell_type": "code",
      "source": [
        "print(out_rmse)\n",
        "print(out_psnr)"
      ],
      "metadata": {
        "id": "papWfywIz-OM"
      },
      "execution_count": null,
      "outputs": []
    },
    {
      "cell_type": "code",
      "source": [
        "in_img1 = cv2.imread(y)\n",
        "in_img2 = cv2.imread(a)\n",
        "out_rmse = rmse(in_img1, in_img2)\n",
        "out_psnr = psnr(in_img1, in_img2)"
      ],
      "metadata": {
        "id": "L3Ahrm5eikii"
      },
      "execution_count": null,
      "outputs": []
    },
    {
      "cell_type": "code",
      "source": [
        "print(out_rmse)\n",
        "print(out_psnr)"
      ],
      "metadata": {
        "id": "tJr2UpDmin4B"
      },
      "execution_count": null,
      "outputs": []
    },
    {
      "cell_type": "markdown",
      "source": [
        "## RSME:- higher the value, lower the quality\n",
        "## PSNR:- higher the value, higher the quality"
      ],
      "metadata": {
        "id": "SwN8rpMShCgf"
      }
    }
  ]
}